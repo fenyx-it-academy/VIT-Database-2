{
 "cells": [
  {
   "cell_type": "code",
   "execution_count": 1,
   "id": "3d78a09b",
   "metadata": {},
   "outputs": [],
   "source": [
    "import sqlite3"
   ]
  },
  {
   "cell_type": "code",
   "execution_count": 5,
   "id": "29c0b27e",
   "metadata": {},
   "outputs": [],
   "source": [
    "conn=sqlite3.connect(\"C:/Users/gebruiker/Desktop/database/world.sqlite\")"
   ]
  },
  {
   "cell_type": "code",
   "execution_count": 6,
   "id": "ff96ca09",
   "metadata": {},
   "outputs": [],
   "source": [
    "cursor=conn.cursor()"
   ]
  },
  {
   "cell_type": "code",
   "execution_count": 29,
   "id": "ffe7bf97",
   "metadata": {},
   "outputs": [
    {
     "name": "stdout",
     "output_type": "stream",
     "text": [
      "Angola\n"
     ]
    },
    {
     "data": {
      "text/plain": [
       "('Luanda', 'Angola')"
      ]
     },
     "execution_count": 29,
     "metadata": {},
     "output_type": "execute_result"
    }
   ],
   "source": [
    "X=input()\n",
    "sorgu=\"Select city.Name,country.name From country join city on country.capital=city.ID where country.name=?\"\n",
    "\n",
    "cursor.execute(sorgu,(X,))\n",
    "print(cursor.fetchone())\n",
    "#  X ULKESININ BASKENTI SORGUSU"
   ]
  },
  {
   "cell_type": "code",
   "execution_count": 52,
   "id": "82c79c24",
   "metadata": {},
   "outputs": [
    {
     "name": "stdout",
     "output_type": "stream",
     "text": [
      "Ankara\n",
      "('Ankara', 'Turkey')\n"
     ]
    }
   ],
   "source": [
    "X=input()\n",
    "sorgu=\"Select city.Name,country.name From city join country on country.code=city.countrycode where city.name=?\"\n",
    "cursor.execute(sorgu,(X,))\n",
    "print(cursor.fetchone())\n",
    "\n",
    "#X SEHRI HANGI ULKEDE YER ALIR"
   ]
  },
  {
   "cell_type": "code",
   "execution_count": 36,
   "id": "ed1b1993",
   "metadata": {},
   "outputs": [
    {
     "name": "stdout",
     "output_type": "stream",
     "text": [
      "Western Europe\n",
      "('Austria', 'Western Europe', 'Czech')\n",
      "('Austria', 'Western Europe', 'German')\n",
      "('Austria', 'Western Europe', 'Hungarian')\n",
      "('Austria', 'Western Europe', 'Polish')\n",
      "('Austria', 'Western Europe', 'Romanian')\n",
      "('Austria', 'Western Europe', 'Serbo-Croatian')\n",
      "('Austria', 'Western Europe', 'Slovene')\n",
      "('Austria', 'Western Europe', 'Turkish')\n",
      "('Belgium', 'Western Europe', 'Arabic')\n",
      "('Belgium', 'Western Europe', 'Dutch')\n",
      "('Belgium', 'Western Europe', 'French')\n",
      "('Belgium', 'Western Europe', 'German')\n",
      "('Belgium', 'Western Europe', 'Italian')\n",
      "('Belgium', 'Western Europe', 'Turkish')\n",
      "('Switzerland', 'Western Europe', 'French')\n",
      "('Switzerland', 'Western Europe', 'German')\n",
      "('Switzerland', 'Western Europe', 'Italian')\n",
      "('Switzerland', 'Western Europe', 'Romansh')\n",
      "('Germany', 'Western Europe', 'German')\n",
      "('Germany', 'Western Europe', 'Greek')\n",
      "('Germany', 'Western Europe', 'Italian')\n",
      "('Germany', 'Western Europe', 'Polish')\n",
      "('Germany', 'Western Europe', 'Southern Slavic Languages')\n",
      "('Germany', 'Western Europe', 'Turkish')\n",
      "('France', 'Western Europe', 'Arabic')\n",
      "('France', 'Western Europe', 'French')\n",
      "('France', 'Western Europe', 'Italian')\n",
      "('France', 'Western Europe', 'Portuguese')\n",
      "('France', 'Western Europe', 'Spanish')\n",
      "('France', 'Western Europe', 'Turkish')\n",
      "('Liechtenstein', 'Western Europe', 'German')\n",
      "('Liechtenstein', 'Western Europe', 'Italian')\n",
      "('Liechtenstein', 'Western Europe', 'Turkish')\n",
      "('Luxembourg', 'Western Europe', 'French')\n",
      "('Luxembourg', 'Western Europe', 'German')\n",
      "('Luxembourg', 'Western Europe', 'Italian')\n",
      "('Luxembourg', 'Western Europe', 'Luxembourgish')\n",
      "('Luxembourg', 'Western Europe', 'Portuguese')\n",
      "('Monaco', 'Western Europe', 'English')\n",
      "('Monaco', 'Western Europe', 'French')\n",
      "('Monaco', 'Western Europe', 'Italian')\n",
      "('Monaco', 'Western Europe', 'Monegasque')\n",
      "('Netherlands', 'Western Europe', 'Arabic')\n",
      "('Netherlands', 'Western Europe', 'Dutch')\n",
      "('Netherlands', 'Western Europe', 'Fries')\n",
      "('Netherlands', 'Western Europe', 'Turkish')\n"
     ]
    }
   ],
   "source": [
    "X=input()\n",
    "sorgu=\"Select country.Name,country.Region,countrylanguage.language From country join countrylanguage on country.code=countrylanguage.countrycode where country.Region=?\"\n",
    "cursor.execute(sorgu,(X,))\n",
    "for i in cursor.fetchall():\n",
    "    print(i)\n",
    "#X Bolgesinde konusulan Tum diller"
   ]
  },
  {
   "cell_type": "code",
   "execution_count": 51,
   "id": "921aab12",
   "metadata": {},
   "outputs": [
    {
     "name": "stdout",
     "output_type": "stream",
     "text": [
      "English\n",
      "[(823,)]\n"
     ]
    }
   ],
   "source": [
    "X=input()\n",
    "sorgu=\"\"\"\n",
    "Select count(city.Name) as [Ingilizce Konusan Sehir Sayisi]\n",
    "From city join countrylanguage on city.countrycode=countrylanguage.countrycode \n",
    "where countrylanguage.language=? \n",
    "\"\"\"\n",
    "cursor.execute(sorgu,(X,))\n",
    "print(cursor.fetchall())\n",
    "\n",
    "#X dilini konusan sehirlerin sayisi"
   ]
  },
  {
   "cell_type": "code",
   "execution_count": 50,
   "id": "3824b9b2",
   "metadata": {
    "scrolled": true
   },
   "outputs": [
    {
     "name": "stdout",
     "output_type": "stream",
     "text": [
      "Antartica\n",
      "English\n",
      "English dili Antartica bolgesindeki hicbir ulkede resmi dil olarak kullanilmiyor.\n"
     ]
    }
   ],
   "source": [
    "A=input()\n",
    "B=input()\n",
    "sorgu=\"\"\"\n",
    "Select country.Region,country.name, countrylanguage.language\n",
    "From country join countrylanguage on country.code=countrylanguage.countrycode \n",
    "where country.Region=? and countrylanguage.language=? and countrylanguage.isofficial='T'\n",
    "\n",
    "\"\"\"\n",
    "cursor.execute(sorgu,(A,B,))\n",
    "for i in cursor.fetchall():\n",
    "    print(i)\n",
    "    \n",
    "else:\n",
    "    print(f\"{B} dili {A} bolgesindeki hicbir ulkede resmi dil olarak kullanilmiyor.\")\n",
    "\n",
    "#A bolgesinde B dilini konusan ulkeler"
   ]
  },
  {
   "cell_type": "code",
   "execution_count": 70,
   "id": "22b633c6",
   "metadata": {},
   "outputs": [
    {
     "name": "stdout",
     "output_type": "stream",
     "text": [
      "('Africa', 215)\n",
      "('Asia', 138)\n",
      "('Europe', 62)\n",
      "('North America', 43)\n",
      "('Oceania', 43)\n",
      "('South America', 21)\n"
     ]
    }
   ],
   "source": [
    "sorgu=\"\"\"\n",
    "Select country.Continent, count(DISTINCT countrylanguage.language)\n",
    "From country join countrylanguage on country.code=countrylanguage.countrycode\n",
    "Group BY country.continent\n",
    "ORDER BY Continent\n",
    "\n",
    "\n",
    "\"\"\"\n",
    "c=cursor.execute(sorgu)\n",
    "for i in c.fetchall():\n",
    "    print(i)\n",
    "#Tum kitalarda konusulan dillerin sayilari"
   ]
  }
 ],
 "metadata": {
  "kernelspec": {
   "display_name": "Python 3 (ipykernel)",
   "language": "python",
   "name": "python3"
  },
  "language_info": {
   "codemirror_mode": {
    "name": "ipython",
    "version": 3
   },
   "file_extension": ".py",
   "mimetype": "text/x-python",
   "name": "python",
   "nbconvert_exporter": "python",
   "pygments_lexer": "ipython3",
   "version": "3.9.13"
  }
 },
 "nbformat": 4,
 "nbformat_minor": 5
}
